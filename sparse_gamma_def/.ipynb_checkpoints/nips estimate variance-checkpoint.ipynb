{
 "cells": [
  {
   "cell_type": "code",
   "execution_count": 1,
   "metadata": {},
   "outputs": [],
   "source": [
    "%load_ext autoreload\n",
    "%autoreload 2\n",
    "from autograd import grad\n",
    "import autograd.numpy as np\n",
    "import autograd.numpy.random as npr\n",
    "import autograd.scipy.special as sp\n",
    "\n",
    "from gamma_def import *\n",
    "from gamma_def_rejection import *\n",
    "from gamma_def_generalized import *\n",
    "from gamma_def_score import *\n",
    "\n",
    "\n",
    "import matplotlib.pyplot as plt\n",
    "%matplotlib inline"
   ]
  },
  {
   "cell_type": "code",
   "execution_count": 2,
   "metadata": {},
   "outputs": [],
   "source": [
    "# Initialize\n",
    "x = np.loadtxt('data/nips_train.csv')\n",
    "\n",
    "N = x.shape[0]\n",
    "D = x.shape[1]\n",
    "alphaz = 0.1\n",
    "K = np.array([100,40,15])\n",
    "\n",
    "params = np.load('results/Nips_Eta0.05_B2_corrTrue_K1_100_K2_40_K3_15_params_R.npy')"
   ]
  },
  {
   "cell_type": "code",
   "execution_count": 3,
   "metadata": {},
   "outputs": [
    {
     "name": "stdout",
     "output_type": "stream",
     "text": [
      "1 loop, best of 3: 4.92 s per loop\n",
      "1 loop, best of 3: 2.17 s per loop\n"
     ]
    }
   ],
   "source": [
    "%timeit grep_gradient(params[:,0],params[:,1],x,K,alphaz)\n",
    "%timeit reparam_gradient(params[:,0],params[:,1],x,K,alphaz,corr=True,B=4)"
   ]
  },
  {
   "cell_type": "code",
   "execution_count": null,
   "metadata": {},
   "outputs": [],
   "source": [
    "# Estimate variance at initial step\n",
    "np.random.seed(0)\n",
    "sigma = 0.1\n",
    "params[:,0] = 0.5+sigma*np.random.normal(size=N*np.sum(K)+D*K[0]+K[1]*K[0]+K[2]*K[1])\n",
    "params[:,1] = sigma*np.random.normal(size=N*np.sum(K)+D*K[0]+K[1]*K[0]+K[2]*K[1])\n",
    "params = np.log(1.+np.exp(params))\n",
    "params[params[:,0]<1.,0] = 1.\n",
    "\n",
    "S = 10\n",
    "grep = np.zeros((S,params.shape[0],params.shape[1]))\n",
    "rej1 = np.zeros((S,params.shape[0],params.shape[1]))\n",
    "rej2 = np.zeros((S,params.shape[0],params.shape[1]))\n",
    "for s in range(S):\n",
    "    grep[s,:,:] = grep_gradient(params[:,0],params[:,1],x,K,alphaz)\n",
    "    rej1[s,:,:] = reparam_gradient(params[:,0],params[:,1],x,K,alphaz,corr=True,B=0)\n",
    "    rej2[s,:,:] = reparam_gradient(params[:,0],params[:,1],x,K,alphaz,corr=True,B=4)"
   ]
  },
  {
   "cell_type": "code",
   "execution_count": null,
   "metadata": {},
   "outputs": [],
   "source": [
    "print np.min(np.var(rej1,axis=0)),np.median(np.var(rej1,axis=0)),np.max(np.var(rej1,axis=0))\n",
    "print np.min(np.var(rej2,axis=0)),np.median(np.var(rej2,axis=0)),np.max(np.var(rej2,axis=0))\n",
    "print np.min(np.var(grep,axis=0)),np.median(np.var(grep,axis=0)),np.max(np.var(grep,axis=0))"
   ]
  },
  {
   "cell_type": "code",
   "execution_count": null,
   "metadata": {},
   "outputs": [],
   "source": [
    "# Estimate variance after 2600 iterations\n",
    "np.random.seed(0)\n",
    "params = np.load('results/Nips_Eta0.05_B2_corrTrue_K1_100_K2_40_K3_15_params_R.npy')\n",
    "S = 10\n",
    "grep = np.zeros((S,params.shape[0],params.shape[1]))\n",
    "rej1 = np.zeros((S,params[ind,:].shape[0],params[ind,:].shape[1]))\n",
    "rej2 = np.zeros((S,params.shape[0],params.shape[1]))\n",
    "for s in range(S):\n",
    "    grep[s,:,:] = grep_gradient(params[:,0],params[:,1],x,K,alphaz)\n",
    "    rej1[s,:,:] = reparam_gradient(params[:,0],params[:,1],x,K,alphaz,corr=True,B=1.)\n",
    "    rej2[s,:,:] = reparam_gradient(params[:,0],params[:,1],x,K,alphaz,corr=True,B=4)"
   ]
  },
  {
   "cell_type": "code",
   "execution_count": null,
   "metadata": {},
   "outputs": [],
   "source": [
    "print np.min(np.var(rej1,axis=0)),np.median(np.var(rej1,axis=0)),np.max(np.var(rej1,axis=0))\n",
    "print np.min(np.var(rej2,axis=0)),np.median(np.var(rej2,axis=0)),np.max(np.var(rej2,axis=0))\n",
    "print np.min(np.var(grep,axis=0)),np.median(np.var(grep,axis=0)),np.max(np.var(grep,axis=0))"
   ]
  },
  {
   "cell_type": "code",
   "execution_count": null,
   "metadata": {
    "collapsed": true
   },
   "outputs": [],
   "source": []
  }
 ],
 "metadata": {
  "kernelspec": {
   "display_name": "Python 3",
   "language": "python",
   "name": "python3"
  },
  "language_info": {
   "codemirror_mode": {
    "name": "ipython",
    "version": 3
   },
   "file_extension": ".py",
   "mimetype": "text/x-python",
   "name": "python",
   "nbconvert_exporter": "python",
   "pygments_lexer": "ipython3",
   "version": "3.6.1"
  }
 },
 "nbformat": 4,
 "nbformat_minor": 1
}
